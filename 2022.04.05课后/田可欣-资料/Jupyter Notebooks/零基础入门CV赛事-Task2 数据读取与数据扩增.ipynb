{
 "cells": [
  {
   "cell_type": "markdown",
   "metadata": {},
   "source": [
    "# Datawhale 零基础入门CV赛事-Task2 数据读取与数据扩增\n",
    "       \n",
    "在上一章节，我们给大家讲解了赛题的内容和三种不同的解决方案。从本章开始我们将逐渐的学习使用【定长字符识别】思路来构建模型，逐步讲解赛题的解决方案和相应知识点。    \n",
    "\n",
    "## 2 数据读取与数据扩增     \n",
    "本章主要内容为数据读取、数据扩增方法和Pytorch读取赛题数据三个部分组成。     \n",
    "       \n",
    "### 2.1 学习目标     \n",
    "- 学习Python和Pytorch中图像读取    \n",
    "- 学会扩增方法和Pytorch读取赛题数据\n",
    "      \n",
    "### 2.2 图像读取           \n",
    "由于赛题数据是图像数据，赛题的任务是识别图像中的字符。因此我们首先需要完成对数据的读取操作，在Python中有很多库可以完成数据读取的操作，比较常见的有Pillow和OpenCV。\n",
    "\n",
    "#### 2.2.1 Pillow     \n",
    "Pillow是Python图像处理函式库(PIL）的一个分支。Pillow提供了常见的图像读取和处理的操作，而且可以与ipython notebook无缝集成，是应用比较广泛的库。            "
   ]
  },
  {
   "cell_type": "code",
   "execution_count": null,
   "metadata": {
    "scrolled": true
   },
   "outputs": [],
   "source": [
    "from PIL import Image\n",
    "# 导入Pillow库\n",
    "# 读取图片\n",
    "im =Image.open('./cat.png')"
   ]
  },
  {
   "cell_type": "markdown",
   "metadata": {},
   "source": [
    "![](http://jupter-oss.oss-cn-hangzhou.aliyuncs.com/public/files/image/1095279523651/1589798610604_JFi9R6dDSU.jpg)"
   ]
  },
  {
   "cell_type": "code",
   "execution_count": null,
   "metadata": {},
   "outputs": [],
   "source": [
    "from PIL import Image, ImageFilter\n",
    "im = Image.open('./cat.png')\n",
    "# 应用模糊滤镜\n",
    "im2 = im.filter(ImageFilter.BLUR)\n",
    "im2.save('blur.jpg', 'jpeg')"
   ]
  },
  {
   "cell_type": "markdown",
   "metadata": {},
   "source": [
    "![](http://jupter-oss.oss-cn-hangzhou.aliyuncs.com/public/files/image/1095279523651/1589807534526_SwYXqf0tk8.jpg)"
   ]
  },
  {
   "cell_type": "code",
   "execution_count": null,
   "metadata": {},
   "outputs": [],
   "source": [
    "from PIL import Image\n",
    "# 打开一个jpg图像文件，注意是当前路径\n",
    "im = Image.open('./cat.jpg')\n",
    "im.thumbnail((w//2, h//2))\n",
    "im.save('thumbnail.jpg', 'jpeg')"
   ]
  },
  {
   "cell_type": "markdown",
   "metadata": {},
   "source": [
    "![](http://jupter-oss.oss-cn-hangzhou.aliyuncs.com/public/files/image/1095279523651/1589807737840_Dj8k7RQTjJ.jpg)"
   ]
  },
  {
   "cell_type": "markdown",
   "metadata": {},
   "source": [
    "当然上面只演示了Pillow最基础的操作，Pillow还有很多图像操作，是图像处理的必备库。       \n",
    "Pillow的官方文档：https://pillow.readthedocs.io/en/stable/"
   ]
  },
  {
   "cell_type": "markdown",
   "metadata": {},
   "source": [
    "#### 2.2.2 OpenCV           \n",
    "OpenCV是一个跨平台的计算机视觉库，最早由Intel开源得来。OpenCV发展的非常早，拥有众多的计算机视觉、数字图像处理和机器视觉等功能。OpenCV在功能上比Pillow更加强大很多，学习成本也高很多。 "
   ]
  },
  {
   "cell_type": "code",
   "execution_count": null,
   "metadata": {},
   "outputs": [],
   "source": [
    "import cv2\n",
    "# 导入Opencv库\n",
    "img = cv2.imread('./cat.jpg')\n",
    "# Opencv默认颜色通道顺序是BRG，转换一下\n",
    "img = cv2.cvtColor(img, cv2.COLOR_BGR2RGB) "
   ]
  },
  {
   "cell_type": "markdown",
   "metadata": {},
   "source": [
    "![](http://jupter-oss.oss-cn-hangzhou.aliyuncs.com/public/files/image/1095279523651/1589808674484_olqDtZ5UGO.jpg)"
   ]
  },
  {
   "cell_type": "code",
   "execution_count": null,
   "metadata": {},
   "outputs": [],
   "source": [
    "import cv2\n",
    "# 导入Opencv库\n",
    "img = cv2.imread('./cat.jpg')\n",
    "img = cv2.cvtColor(img, cv2.COLOR_BGR2GRAY)\n",
    "# 转换为灰度图"
   ]
  },
  {
   "cell_type": "markdown",
   "metadata": {},
   "source": [
    "![](http://jupter-oss.oss-cn-hangzhou.aliyuncs.com/public/files/image/1095279523651/1589808765597_FxKMVIv5j2.jpg)"
   ]
  },
  {
   "cell_type": "code",
   "execution_count": null,
   "metadata": {},
   "outputs": [],
   "source": [
    " import cv2\n",
    "# 导入Opencv库\n",
    "img = cv2.imread('./cat.jpg')\n",
    "img =cv2.cvtColor(img, cv2.COLOR_BGR2GRAY)\n",
    "# 转换为灰度图\n",
    "# Canny边缘检测\n",
    "edges = cv2.Canny(img, 30, 70)\n",
    "cv2.imwrite('canny.jpg', edges)"
   ]
  },
  {
   "cell_type": "markdown",
   "metadata": {},
   "source": [
    "![](http://jupter-oss.oss-cn-hangzhou.aliyuncs.com/public/files/image/1095279523651/1589808827440_d248gznnI0.jpg)"
   ]
  },
  {
   "cell_type": "markdown",
   "metadata": {},
   "source": [
    "OpenCV包含了众多的图像处理的功能，OpenCV包含了你能想得到的只要与图像相关的操作。此外OpenCV还内置了很多的图像特征处理算法，如关键点检测、边缘检测和直线检测等。       \n",
    "OpenCV官网：https://opencv.org/       \n",
    "OpenCV Github：https://github.com/opencv/opencv      \n",
    "OpenCV 扩展算法库：https://github.com/opencv/opencv_contrib"
   ]
  },
  {
   "cell_type": "markdown",
   "metadata": {},
   "source": [
    "### 2.3 数据扩增方法          \n",
    "在上一小节中给大家初步介绍了Pillow和OpenCV的使用，现在回到赛题街道字符识别任务中。在赛题中我们需要对的图像进行字符识别，因此需要我们完成的数据的读取操作，同时也需要完成数据扩增（Data Augmentation）操作。     \n",
    "       \n",
    "#### 2.3.1 数据扩增介绍      \n",
    "在深度学习中数据扩增方法非常重要，数据扩增可以增加训练集的样本，同时也可以有效缓解模型过拟合的情况，也可以给模型带来的更强的泛化能力。\n",
    "      \n",
    "![](http://jupter-oss.oss-cn-hangzhou.aliyuncs.com/public/files/image/1095279523651/1589808888406_MhY3VBnSkN.jpg)\n",
    "          \n",
    "- #### 数据扩增为什么有用？      \n",
    "在深度学习模型的训练过程中，数据扩增是必不可少的环节。现有深度学习的参数非常多，一般的模型可训练的参数量基本上都是万到百万级别，而训练集样本的数量很难有这么多。       \n",
    "其次数据扩增可以扩展样本空间，假设现在的分类模型需要对汽车进行分类，左边的是汽车A，右边为汽车B。如果不使用任何数据扩增方法，深度学习模型会从汽车车头的角度来进行判别，而不是汽车具体的区别。     \n",
    "      \n",
    "![](http://jupter-oss.oss-cn-hangzhou.aliyuncs.com/public/files/image/1095279523651/1589808897517_Q8JCZtChgu.jpg)\n",
    "                   \n",
    "- #### 有哪些数据扩增方法？            \n",
    "数据扩增方法有很多：从颜色空间、尺度空间到样本空间，同时根据不同任务数据扩增都有相应的区别。        \n",
    "对于图像分类，数据扩增一般不会改变标签；对于物体检测，数据扩增会改变物体坐标位置；对于图像分割，数据扩增会改变像素标签。     \n",
    "        \n",
    "#### 2.3.2 常见的数据扩增方法     \n",
    "在常见的数据扩增方法中，一般会从图像颜色、尺寸、形态、空间和像素等角度进行变换。当然不同的数据扩增方法可以自由进行组合，得到更加丰富的数据扩增方法。         \n",
    "\n",
    "以torchvision为例，常见的数据扩增方法包括：\n",
    "\n",
    "- transforms.CenterCrop      对图片中心进行裁剪      \n",
    "- transforms.ColorJitter      对图像颜色的对比度、饱和度和零度进行变换      \n",
    "- transforms.FiveCrop     对图像四个角和中心进行裁剪得到五分图像     \n",
    "- transforms.Grayscale      对图像进行灰度变换    \n",
    "- transforms.Pad        使用固定值进行像素填充     \n",
    "- transforms.RandomAffine      随机仿射变换    \n",
    "- transforms.RandomCrop      随机区域裁剪     \n",
    "- transforms.RandomHorizontalFlip      随机水平翻转     \n",
    "- transforms.RandomRotation     随机旋转     \n",
    "- transforms.RandomVerticalFlip     随机垂直翻转   \n",
    "      \n",
    "![](http://jupter-oss.oss-cn-hangzhou.aliyuncs.com/public/files/image/1095279523651/1589808907852_BVNUbF2z04.jpg) \n",
    "       \n",
    "在本次赛题中，赛题任务是需要对图像中的字符进行识别，因此对于字符图片并不能进行翻转操作。比如字符6经过水平翻转就变成了字符9，会改变字符原本的含义。    \n",
    "   \n",
    "#### 2.3.3 常用的数据扩增库     \n",
    "- #### torchvision      \n",
    "https://github.com/pytorch/vision      \n",
    "pytorch官方提供的数据扩增库，提供了基本的数据数据扩增方法，可以无缝与torch进行集成；但数据扩增方法种类较少，且速度中等；       \n",
    "        \n",
    "- #### imgaug         \n",
    "https://github.com/aleju/imgaug      \n",
    "imgaug是常用的第三方数据扩增库，提供了多样的数据扩增方法，且组合起来非常方便，速度较快；      \n",
    "       \n",
    "- #### albumentations       \n",
    "https://albumentations.readthedocs.io      \n",
    "是常用的第三方数据扩增库，提供了多样的数据扩增方法，对图像分类、语义分割、物体检测和关键点检测都支持，速度较快。      \n",
    "      \n",
    "## 2.4 Pytorch读取数据    \n",
    "由于本次赛题我们使用Pytorch框架讲解具体的解决方案，接下来将是解决赛题的第一步使用Pytorch读取赛题数据。       \n",
    "在Pytorch中数据是通过Dataset进行封装，并通过DataLoder进行并行读取。所以我们只需要重载一下数据读取的逻辑就可以完成数据的读取。"
   ]
  },
  {
   "cell_type": "code",
   "execution_count": null,
   "metadata": {},
   "outputs": [],
   "source": [
    "import os, sys, glob, shutil, json\n",
    "import cv2\n",
    "\n",
    "from PIL import Image\n",
    "import numpy as np\n",
    "\n",
    "import torch\n",
    "from torch.utils.data.dataset import Dataset\n",
    "import torchvision.transforms as transforms\n",
    "\n",
    "class SVHNDataset(Dataset):\n",
    "    def __init__(self, img_path, img_label, transform=None):\n",
    "        self.img_path = img_path\n",
    "        self.img_label = img_label \n",
    "        if transform is not None:\n",
    "            self.transform = transform\n",
    "        else:\n",
    "            self.transform = None\n",
    "\n",
    "    def __getitem__(self, index):\n",
    "        img = Image.open(self.img_path[index]).convert('RGB')\n",
    "\n",
    "        if self.transform is not None:\n",
    "            img = self.transform(img)\n",
    "        \n",
    "        # 原始SVHN中类别10为数字0\n",
    "        lbl = np.array(self.img_label[index], dtype=np.int)\n",
    "        lbl = list(lbl)  + (5 - len(lbl)) * [10]\n",
    "        \n",
    "        return img, torch.from_numpy(np.array(lbl[:5]))\n",
    "\n",
    "    def __len__(self):\n",
    "        return len(self.img_path)\n",
    "\n",
    "train_path = glob.glob('../input/train/*.png')\n",
    "train_path.sort()\n",
    "train_json = json.load(open('../input/train.json'))\n",
    "train_label = [train_json[x]['label'] for x in train_json]\n",
    "\n",
    "data = SVHNDataset(train_path, train_label,\n",
    "          transforms.Compose([\n",
    "              # 缩放到固定尺寸\n",
    "              transforms.Resize((64, 128)),\n",
    "\n",
    "              # 随机颜色变换\n",
    "              transforms.ColorJitter(0.2, 0.2, 0.2),\n",
    "\n",
    "              # 加入随机旋转\n",
    "              transforms.RandomRotation(5),\n",
    "\n",
    "              # 将图片转换为pytorch 的tesntor\n",
    "              # transforms.ToTensor(),\n",
    "\n",
    "              # 对图像像素进行归一化\n",
    "              # transforms.Normalize([0.485,0.456,0.406],[0.229,0.224,0.225])\n",
    "            ]))"
   ]
  },
  {
   "cell_type": "markdown",
   "metadata": {},
   "source": [
    "通过上述代码，可以将赛题的图像数据和对应标签进行读取，在读取过程中的进行数据扩增，效果如下所示：  \n",
    "       \n",
    "\n",
    "|1|2|3|      \n",
    "|----|-----|------|          \n",
    "|![](http://jupter-oss.oss-cn-hangzhou.aliyuncs.com/public/files/image/1095279523651/1589808986200_yW8K2oLYGh.jpg) | ![](http://jupter-oss.oss-cn-hangzhou.aliyuncs.com/public/files/image/1095279523651/1589808994943_1vaxJcL3is.jpg)| ![](http://jupter-oss.oss-cn-hangzhou.aliyuncs.com/public/files/image/1095279523651/1589809003822_gV4oBqEZbi.jpg)|               \n",
    "|![](http://jupter-oss.oss-cn-hangzhou.aliyuncs.com/public/files/image/1095279523651/1589809010450_gtdv9AOAGv.jpg) | ![](http://jupter-oss.oss-cn-hangzhou.aliyuncs.com/public/files/image/1095279523651/1589809171630_URlXMAAmua.jpg)| ![](http://jupter-oss.oss-cn-hangzhou.aliyuncs.com/public/files/image/1095279523651/1589809179019_67FAUeTtAY.jpg)|"
   ]
  },
  {
   "cell_type": "markdown",
   "metadata": {},
   "source": [
    "接下来我们将在定义好的Dataset基础上构建DataLoder，你可以会问有了Dataset为什么还要有DataLoder？其实这两个是两个不同的概念，是为了实现不同的功能。                 \n",
    "- Dataset：对数据集的封装，提供索引方式的对数据样本进行读取      \n",
    "- DataLoder：对Dataset进行封装，提供批量读取的迭代读取    \n",
    "       \n",
    " 加入DataLoder后，数据读取代码改为如下：  "
   ]
  },
  {
   "cell_type": "code",
   "execution_count": null,
   "metadata": {},
   "outputs": [],
   "source": [
    "import os, sys, glob, shutil, json\n",
    "import cv2\n",
    "\n",
    "from PIL import Image\n",
    "import numpy as np\n",
    "\n",
    "import torch\n",
    "from torch.utils.data.dataset import Dataset\n",
    "import torchvision.transforms as transforms\n",
    "\n",
    "class SVHNDataset(Dataset):\n",
    "    def __init__(self, img_path, img_label, transform=None):\n",
    "        self.img_path = img_path\n",
    "        self.img_label = img_label \n",
    "        if transform is not None:\n",
    "            self.transform = transform\n",
    "        else:\n",
    "            self.transform = None\n",
    "\n",
    "    def __getitem__(self, index):\n",
    "        img = Image.open(self.img_path[index]).convert('RGB')\n",
    "\n",
    "        if self.transform is not None:\n",
    "            img = self.transform(img)\n",
    "        \n",
    "        # 原始SVHN中类别10为数字0\n",
    "        lbl = np.array(self.img_label[index], dtype=np.int)\n",
    "        lbl = list(lbl)  + (5 - len(lbl)) * [10]\n",
    "        \n",
    "        return img, torch.from_numpy(np.array(lbl[:5]))\n",
    "\n",
    "    def __len__(self):\n",
    "        return len(self.img_path)\n",
    "\n",
    "train_path = glob.glob('../input/train/*.png')\n",
    "train_path.sort()\n",
    "train_json = json.load(open('../input/train.json'))\n",
    "train_label = [train_json[x]['label'] for x in train_json]\n",
    "\n",
    "train_loader = torch.utils.data.DataLoader(\n",
    "        SVHNDataset(train_path, train_label,\n",
    "                   transforms.Compose([\n",
    "                       transforms.Resize((64, 128)),\n",
    "                       transforms.ColorJitter(0.3, 0.3, 0.2),\n",
    "                       transforms.RandomRotation(5),\n",
    "                       transforms.ToTensor(),\n",
    "                       transforms.Normalize([0.485, 0.456, 0.406], [0.229, 0.224, 0.225])\n",
    "            ])), \n",
    "    batch_size=10, # 每批样本个数\n",
    "    shuffle=False, # 是否打乱顺序\n",
    "    num_workers=10, # 读取的线程个数\n",
    ")\n",
    "\n",
    "for data in train_loader:\n",
    "    break"
   ]
  },
  {
   "cell_type": "markdown",
   "metadata": {},
   "source": [
    "在加入DataLoder后，数据按照批次获取，每批次调用Dataset读取单个样本进行拼接。此时data的格式为： "
   ]
  },
  {
   "cell_type": "code",
   "execution_count": null,
   "metadata": {},
   "outputs": [],
   "source": [
    "torch.Size([10, 3, 64, 128]), torch.Size([10, 6]) "
   ]
  },
  {
   "cell_type": "markdown",
   "metadata": {},
   "source": [
    "\n",
    "## 2.5 本章小节       \n",
    "本章对数据读取进行了详细的讲解，并介绍了常见的数据扩增方法和使用，最后使用Pytorch框架对本次赛题的数据进行读取。  \n",
    "         \n",
    "---\n",
    "    \n",
    "**Task02 数据读取与数据扩增 END.** \n",
    "     \n",
    "--- **By:阿水**           \n",
    "   \n",
    "   天池数据大神，CV爱好者。                      \n",
    "   公众号：Coggle数据科学                                   \n",
    "   知乎：https://www.zhihu.com/people/finlayliu                \n",
    "                         \n",
    "--- **By:小武**   \n",
    "                                                         \n",
    "   南昌航空大学研究生，CV爱好者。                     \n",
    "   博客：https://blog.csdn.net/weixin_40647819 \n",
    "                                        \n",
    "                                   \n",
    "**关于Datawhale**：      \n",
    "\n",
    ">Datawhale是一个专注于数据科学与AI领域的开源组织，汇集了众多领域院校和知名企业的优秀学习者，聚合了一群有开源精神和探索精神的团队成员。Datawhale以“for the learner，和学习者一起成长”为愿景，鼓励真实地展现自我、开放包容、互信互助、敢于试错和勇于担当。同时Datawhale 用开源的理念去探索开源内容、开源学习和开源方案，赋能人才培养，助力人才成长，建立起人与人，人与知识，人与企业和人与未来的联结。\n",
    "\n",
    "本次零基础入门CV学习，专题知识将在天池分享，详情可关注Datawhale：\n",
    "\n",
    "![](http://jupter-oss.oss-cn-hangzhou.aliyuncs.com/public/files/image/1095279523651/1589881255893_drG2I9kEpc.jpg)"
   ]
  }
 ],
 "metadata": {
  "kernelspec": {
   "display_name": "Python 3 (ipykernel)",
   "language": "python",
   "name": "python3"
  },
  "language_info": {
   "codemirror_mode": {
    "name": "ipython",
    "version": 3
   },
   "file_extension": ".py",
   "mimetype": "text/x-python",
   "name": "python",
   "nbconvert_exporter": "python",
   "pygments_lexer": "ipython3",
   "version": "3.9.7"
  },
  "toc": {
   "base_numbering": 1,
   "nav_menu": {},
   "number_sections": true,
   "sideBar": true,
   "skip_h1_title": false,
   "title_cell": "Table of Contents",
   "title_sidebar": "Contents",
   "toc_cell": false,
   "toc_position": {},
   "toc_section_display": true,
   "toc_window_display": false
  }
 },
 "nbformat": 4,
 "nbformat_minor": 4
}
